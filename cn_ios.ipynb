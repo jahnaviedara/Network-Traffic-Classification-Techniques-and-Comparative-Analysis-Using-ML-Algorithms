{
 "cells": [
  {
   "cell_type": "markdown",
   "id": "3bab73ac",
   "metadata": {},
   "source": [
    "#Importing Libraries"
   ]
  },
  {
   "cell_type": "code",
   "execution_count": 1,
   "id": "e815f440",
   "metadata": {},
   "outputs": [],
   "source": [
    "import numpy as np\n",
    "import pandas as pd \n",
    "import matplotlib.pyplot as plt \n",
    "%matplotlib inline \n",
    "import seaborn as sns\n",
    "import warnings\n",
    "warnings.filterwarnings(\"ignore\")"
   ]
  },
  {
   "cell_type": "markdown",
   "id": "7fb21b5c",
   "metadata": {},
   "source": [
    "#Reading CSV file for input"
   ]
  },
  {
   "cell_type": "code",
   "execution_count": 2,
   "id": "9efca01d",
   "metadata": {},
   "outputs": [
    {
     "data": {
      "text/html": [
       "<div>\n",
       "<style scoped>\n",
       "    .dataframe tbody tr th:only-of-type {\n",
       "        vertical-align: middle;\n",
       "    }\n",
       "\n",
       "    .dataframe tbody tr th {\n",
       "        vertical-align: top;\n",
       "    }\n",
       "\n",
       "    .dataframe thead th {\n",
       "        text-align: right;\n",
       "    }\n",
       "</style>\n",
       "<table border=\"1\" class=\"dataframe\">\n",
       "  <thead>\n",
       "    <tr style=\"text-align: right;\">\n",
       "      <th></th>\n",
       "      <th>No.</th>\n",
       "      <th>Time</th>\n",
       "      <th>Source</th>\n",
       "      <th>Destination</th>\n",
       "      <th>Protocol</th>\n",
       "      <th>Length</th>\n",
       "      <th>Info</th>\n",
       "    </tr>\n",
       "  </thead>\n",
       "  <tbody>\n",
       "    <tr>\n",
       "      <th>0</th>\n",
       "      <td>1</td>\n",
       "      <td>0.000000</td>\n",
       "      <td>52.148.82.138</td>\n",
       "      <td>172.20.10.3</td>\n",
       "      <td>TCP</td>\n",
       "      <td>54</td>\n",
       "      <td>443  &gt;  51680 [ACK] Seq=1 Ack=1 Win=501 Len=0</td>\n",
       "    </tr>\n",
       "    <tr>\n",
       "      <th>1</th>\n",
       "      <td>2</td>\n",
       "      <td>0.000000</td>\n",
       "      <td>52.148.82.138</td>\n",
       "      <td>172.20.10.3</td>\n",
       "      <td>TLSv1.2</td>\n",
       "      <td>564</td>\n",
       "      <td>Application Data, Application Data</td>\n",
       "    </tr>\n",
       "    <tr>\n",
       "      <th>2</th>\n",
       "      <td>3</td>\n",
       "      <td>0.008414</td>\n",
       "      <td>52.148.82.138</td>\n",
       "      <td>172.20.10.3</td>\n",
       "      <td>TCP</td>\n",
       "      <td>54</td>\n",
       "      <td>443  &gt;  51680 [ACK] Seq=511 Ack=81 Win=501 Len=0</td>\n",
       "    </tr>\n",
       "    <tr>\n",
       "      <th>3</th>\n",
       "      <td>4</td>\n",
       "      <td>0.008414</td>\n",
       "      <td>52.148.82.138</td>\n",
       "      <td>172.20.10.3</td>\n",
       "      <td>TLSv1.2</td>\n",
       "      <td>169</td>\n",
       "      <td>Application Data, Application Data, Applicatio...</td>\n",
       "    </tr>\n",
       "    <tr>\n",
       "      <th>4</th>\n",
       "      <td>5</td>\n",
       "      <td>0.008586</td>\n",
       "      <td>172.20.10.3</td>\n",
       "      <td>52.148.82.138</td>\n",
       "      <td>TCP</td>\n",
       "      <td>54</td>\n",
       "      <td>51680  &gt;  443 [ACK] Seq=2290 Ack=626 Win=514 L...</td>\n",
       "    </tr>\n",
       "  </tbody>\n",
       "</table>\n",
       "</div>"
      ],
      "text/plain": [
       "   No.      Time         Source    Destination Protocol  Length  \\\n",
       "0    1  0.000000  52.148.82.138    172.20.10.3      TCP      54   \n",
       "1    2  0.000000  52.148.82.138    172.20.10.3  TLSv1.2     564   \n",
       "2    3  0.008414  52.148.82.138    172.20.10.3      TCP      54   \n",
       "3    4  0.008414  52.148.82.138    172.20.10.3  TLSv1.2     169   \n",
       "4    5  0.008586    172.20.10.3  52.148.82.138      TCP      54   \n",
       "\n",
       "                                                Info  \n",
       "0      443  >  51680 [ACK] Seq=1 Ack=1 Win=501 Len=0  \n",
       "1                 Application Data, Application Data  \n",
       "2   443  >  51680 [ACK] Seq=511 Ack=81 Win=501 Len=0  \n",
       "3  Application Data, Application Data, Applicatio...  \n",
       "4  51680  >  443 [ACK] Seq=2290 Ack=626 Win=514 L...  "
      ]
     },
     "execution_count": 2,
     "metadata": {},
     "output_type": "execute_result"
    }
   ],
   "source": [
    "cn=pd.read_csv('cn_ios.csv',on_bad_lines='skip') \n",
    "cn.head()"
   ]
  },
  {
   "cell_type": "code",
   "execution_count": 3,
   "id": "b02f3d2b",
   "metadata": {},
   "outputs": [
    {
     "data": {
      "text/plain": [
       "No.            0\n",
       "Time           0\n",
       "Source         0\n",
       "Destination    0\n",
       "Protocol       0\n",
       "Length         0\n",
       "Info           0\n",
       "dtype: int64"
      ]
     },
     "execution_count": 3,
     "metadata": {},
     "output_type": "execute_result"
    }
   ],
   "source": [
    "cn.isnull().sum()"
   ]
  },
  {
   "cell_type": "markdown",
   "id": "7bcd4d03",
   "metadata": {},
   "source": [
    "#DROPPING THE INFO COLUMN"
   ]
  },
  {
   "cell_type": "code",
   "execution_count": 4,
   "id": "5fc9c80e",
   "metadata": {},
   "outputs": [],
   "source": [
    "cn.drop('Info',axis=1,inplace=True)"
   ]
  },
  {
   "cell_type": "code",
   "execution_count": 5,
   "id": "53889bd0",
   "metadata": {},
   "outputs": [],
   "source": [
    "# CALCULATING TIME DIFFERENCE"
   ]
  },
  {
   "cell_type": "code",
   "execution_count": 6,
   "id": "da93f2b9",
   "metadata": {},
   "outputs": [
    {
     "data": {
      "text/html": [
       "<div>\n",
       "<style scoped>\n",
       "    .dataframe tbody tr th:only-of-type {\n",
       "        vertical-align: middle;\n",
       "    }\n",
       "\n",
       "    .dataframe tbody tr th {\n",
       "        vertical-align: top;\n",
       "    }\n",
       "\n",
       "    .dataframe thead th {\n",
       "        text-align: right;\n",
       "    }\n",
       "</style>\n",
       "<table border=\"1\" class=\"dataframe\">\n",
       "  <thead>\n",
       "    <tr style=\"text-align: right;\">\n",
       "      <th></th>\n",
       "      <th>No.</th>\n",
       "      <th>Time</th>\n",
       "      <th>Source</th>\n",
       "      <th>Destination</th>\n",
       "      <th>Protocol</th>\n",
       "      <th>Length</th>\n",
       "    </tr>\n",
       "  </thead>\n",
       "  <tbody>\n",
       "    <tr>\n",
       "      <th>0</th>\n",
       "      <td>1</td>\n",
       "      <td>NaN</td>\n",
       "      <td>52.148.82.138</td>\n",
       "      <td>172.20.10.3</td>\n",
       "      <td>TCP</td>\n",
       "      <td>54</td>\n",
       "    </tr>\n",
       "    <tr>\n",
       "      <th>1</th>\n",
       "      <td>2</td>\n",
       "      <td>0.000000</td>\n",
       "      <td>52.148.82.138</td>\n",
       "      <td>172.20.10.3</td>\n",
       "      <td>TLSv1.2</td>\n",
       "      <td>564</td>\n",
       "    </tr>\n",
       "    <tr>\n",
       "      <th>2</th>\n",
       "      <td>3</td>\n",
       "      <td>0.008414</td>\n",
       "      <td>52.148.82.138</td>\n",
       "      <td>172.20.10.3</td>\n",
       "      <td>TCP</td>\n",
       "      <td>54</td>\n",
       "    </tr>\n",
       "    <tr>\n",
       "      <th>3</th>\n",
       "      <td>4</td>\n",
       "      <td>0.000000</td>\n",
       "      <td>52.148.82.138</td>\n",
       "      <td>172.20.10.3</td>\n",
       "      <td>TLSv1.2</td>\n",
       "      <td>169</td>\n",
       "    </tr>\n",
       "    <tr>\n",
       "      <th>4</th>\n",
       "      <td>5</td>\n",
       "      <td>0.000172</td>\n",
       "      <td>172.20.10.3</td>\n",
       "      <td>52.148.82.138</td>\n",
       "      <td>TCP</td>\n",
       "      <td>54</td>\n",
       "    </tr>\n",
       "  </tbody>\n",
       "</table>\n",
       "</div>"
      ],
      "text/plain": [
       "   No.      Time         Source    Destination Protocol  Length\n",
       "0    1       NaN  52.148.82.138    172.20.10.3      TCP      54\n",
       "1    2  0.000000  52.148.82.138    172.20.10.3  TLSv1.2     564\n",
       "2    3  0.008414  52.148.82.138    172.20.10.3      TCP      54\n",
       "3    4  0.000000  52.148.82.138    172.20.10.3  TLSv1.2     169\n",
       "4    5  0.000172    172.20.10.3  52.148.82.138      TCP      54"
      ]
     },
     "execution_count": 6,
     "metadata": {},
     "output_type": "execute_result"
    }
   ],
   "source": [
    "cn[\"Time\"] = cn[\"Time\"].diff(1) \n",
    "cn.head()"
   ]
  },
  {
   "cell_type": "markdown",
   "id": "4f752f2d",
   "metadata": {},
   "source": [
    "#REMOVING OUTLIERS\n",
    "#TIME"
   ]
  },
  {
   "cell_type": "code",
   "execution_count": 8,
   "id": "75fa9559",
   "metadata": {},
   "outputs": [
    {
     "data": {
      "text/plain": [
       "No.            8681\n",
       "Time           8681\n",
       "Source         8681\n",
       "Destination    8681\n",
       "Protocol       8681\n",
       "Length         8681\n",
       "dtype: int64"
      ]
     },
     "execution_count": 8,
     "metadata": {},
     "output_type": "execute_result"
    }
   ],
   "source": [
    "Q3_Time=cn['Time'].quantile(0.75) \n",
    "Q1_Time=cn['Time'].quantile(0.25) \n",
    "IQR_Time=Q3_Time-Q1_Time \n",
    "UL=Q3_Time+1.5*IQR_Time \n",
    "LL=Q1_Time-1.5*IQR_Time \n",
    "Outlier_Values=cn[(cn['Time']>=UL)|(cn['Time']<=LL)] \n",
    "Outlier_Values.count()"
   ]
  },
  {
   "cell_type": "code",
   "execution_count": 9,
   "id": "c0ca760c",
   "metadata": {
    "scrolled": false
   },
   "outputs": [
    {
     "data": {
      "text/html": [
       "<div>\n",
       "<style scoped>\n",
       "    .dataframe tbody tr th:only-of-type {\n",
       "        vertical-align: middle;\n",
       "    }\n",
       "\n",
       "    .dataframe tbody tr th {\n",
       "        vertical-align: top;\n",
       "    }\n",
       "\n",
       "    .dataframe thead th {\n",
       "        text-align: right;\n",
       "    }\n",
       "</style>\n",
       "<table border=\"1\" class=\"dataframe\">\n",
       "  <thead>\n",
       "    <tr style=\"text-align: right;\">\n",
       "      <th></th>\n",
       "      <th>No.</th>\n",
       "      <th>Time</th>\n",
       "      <th>Source</th>\n",
       "      <th>Destination</th>\n",
       "      <th>Protocol</th>\n",
       "      <th>Length</th>\n",
       "    </tr>\n",
       "  </thead>\n",
       "  <tbody>\n",
       "    <tr>\n",
       "      <th>1</th>\n",
       "      <td>2</td>\n",
       "      <td>0.000000</td>\n",
       "      <td>52.148.82.138</td>\n",
       "      <td>172.20.10.3</td>\n",
       "      <td>TLSv1.2</td>\n",
       "      <td>564</td>\n",
       "    </tr>\n",
       "    <tr>\n",
       "      <th>2</th>\n",
       "      <td>3</td>\n",
       "      <td>0.008414</td>\n",
       "      <td>52.148.82.138</td>\n",
       "      <td>172.20.10.3</td>\n",
       "      <td>TCP</td>\n",
       "      <td>54</td>\n",
       "    </tr>\n",
       "    <tr>\n",
       "      <th>3</th>\n",
       "      <td>4</td>\n",
       "      <td>0.000000</td>\n",
       "      <td>52.148.82.138</td>\n",
       "      <td>172.20.10.3</td>\n",
       "      <td>TLSv1.2</td>\n",
       "      <td>169</td>\n",
       "    </tr>\n",
       "    <tr>\n",
       "      <th>4</th>\n",
       "      <td>5</td>\n",
       "      <td>0.000172</td>\n",
       "      <td>172.20.10.3</td>\n",
       "      <td>52.148.82.138</td>\n",
       "      <td>TCP</td>\n",
       "      <td>54</td>\n",
       "    </tr>\n",
       "    <tr>\n",
       "      <th>5</th>\n",
       "      <td>6</td>\n",
       "      <td>0.001203</td>\n",
       "      <td>172.20.10.3</td>\n",
       "      <td>52.148.82.138</td>\n",
       "      <td>TLSv1.2</td>\n",
       "      <td>85</td>\n",
       "    </tr>\n",
       "  </tbody>\n",
       "</table>\n",
       "</div>"
      ],
      "text/plain": [
       "   No.      Time         Source    Destination Protocol  Length\n",
       "1    2  0.000000  52.148.82.138    172.20.10.3  TLSv1.2     564\n",
       "2    3  0.008414  52.148.82.138    172.20.10.3      TCP      54\n",
       "3    4  0.000000  52.148.82.138    172.20.10.3  TLSv1.2     169\n",
       "4    5  0.000172    172.20.10.3  52.148.82.138      TCP      54\n",
       "5    6  0.001203    172.20.10.3  52.148.82.138  TLSv1.2      85"
      ]
     },
     "execution_count": 9,
     "metadata": {},
     "output_type": "execute_result"
    }
   ],
   "source": [
    "CN=cn[(cn['Time']>LL)&(cn['Time']<UL)]\n",
    "CN.head()"
   ]
  },
  {
   "cell_type": "markdown",
   "id": "2513025a",
   "metadata": {},
   "source": [
    "#LENGTH"
   ]
  },
  {
   "cell_type": "code",
   "execution_count": 11,
   "id": "392d72e4",
   "metadata": {},
   "outputs": [
    {
     "data": {
      "text/plain": [
       "<AxesSubplot:ylabel='Length'>"
      ]
     },
     "execution_count": 11,
     "metadata": {},
     "output_type": "execute_result"
    },
    {
     "data": {
      "image/png": "[encoded data removed]",
      "text/plain": [
       "<Figure size 432x288 with 1 Axes>"
      ]
     },
     "metadata": {
      "needs_background": "light"
     },
     "output_type": "display_data"
    }
   ],
   "source": [
    "CN.reset_index() \n",
    "sns.boxplot(y='Length',data=CN)"
   ]
  },
  {
   "cell_type": "markdown",
   "id": "7fd95640",
   "metadata": {},
   "source": [
    "#ENCODING SOURCE IP ADDRESS"
   ]
  },
  {
   "cell_type": "code",
   "execution_count": 13,
   "id": "158f4636",
   "metadata": {},
   "outputs": [],
   "source": [
    "from sklearn.preprocessing import LabelEncoder \n",
    "labelencoder = LabelEncoder() \n",
    "CN['Source']= labelencoder.fit_transform(CN['Source'])"
   ]
  },
  {
   "cell_type": "markdown",
   "id": "eeb8af86",
   "metadata": {},
   "source": [
    "#ENCODING DESTINATION IP ADDRESS"
   ]
  },
  {
   "cell_type": "code",
   "execution_count": 15,
   "id": "67fe72a6",
   "metadata": {},
   "outputs": [
    {
     "data": {
      "text/html": [
       "<div>\n",
       "<style scoped>\n",
       "    .dataframe tbody tr th:only-of-type {\n",
       "        vertical-align: middle;\n",
       "    }\n",
       "\n",
       "    .dataframe tbody tr th {\n",
       "        vertical-align: top;\n",
       "    }\n",
       "\n",
       "    .dataframe thead th {\n",
       "        text-align: right;\n",
       "    }\n",
       "</style>\n",
       "<table border=\"1\" class=\"dataframe\">\n",
       "  <thead>\n",
       "    <tr style=\"text-align: right;\">\n",
       "      <th></th>\n",
       "      <th>No.</th>\n",
       "      <th>Time</th>\n",
       "      <th>Source</th>\n",
       "      <th>Destination</th>\n",
       "      <th>Protocol</th>\n",
       "      <th>Length</th>\n",
       "    </tr>\n",
       "  </thead>\n",
       "  <tbody>\n",
       "    <tr>\n",
       "      <th>1</th>\n",
       "      <td>2</td>\n",
       "      <td>0.000000</td>\n",
       "      <td>176</td>\n",
       "      <td>55</td>\n",
       "      <td>TLSv1.2</td>\n",
       "      <td>564</td>\n",
       "    </tr>\n",
       "    <tr>\n",
       "      <th>2</th>\n",
       "      <td>3</td>\n",
       "      <td>0.008414</td>\n",
       "      <td>176</td>\n",
       "      <td>55</td>\n",
       "      <td>TCP</td>\n",
       "      <td>54</td>\n",
       "    </tr>\n",
       "    <tr>\n",
       "      <th>3</th>\n",
       "      <td>4</td>\n",
       "      <td>0.000000</td>\n",
       "      <td>176</td>\n",
       "      <td>55</td>\n",
       "      <td>TLSv1.2</td>\n",
       "      <td>169</td>\n",
       "    </tr>\n",
       "    <tr>\n",
       "      <th>4</th>\n",
       "      <td>5</td>\n",
       "      <td>0.000172</td>\n",
       "      <td>53</td>\n",
       "      <td>184</td>\n",
       "      <td>TCP</td>\n",
       "      <td>54</td>\n",
       "    </tr>\n",
       "    <tr>\n",
       "      <th>5</th>\n",
       "      <td>6</td>\n",
       "      <td>0.001203</td>\n",
       "      <td>53</td>\n",
       "      <td>184</td>\n",
       "      <td>TLSv1.2</td>\n",
       "      <td>85</td>\n",
       "    </tr>\n",
       "  </tbody>\n",
       "</table>\n",
       "</div>"
      ],
      "text/plain": [
       "   No.      Time  Source  Destination Protocol  Length\n",
       "1    2  0.000000     176           55  TLSv1.2     564\n",
       "2    3  0.008414     176           55      TCP      54\n",
       "3    4  0.000000     176           55  TLSv1.2     169\n",
       "4    5  0.000172      53          184      TCP      54\n",
       "5    6  0.001203      53          184  TLSv1.2      85"
      ]
     },
     "execution_count": 15,
     "metadata": {},
     "output_type": "execute_result"
    }
   ],
   "source": [
    "from sklearn.preprocessing import LabelEncoder \n",
    "labelencoder = LabelEncoder() \n",
    "CN['Destination']= labelencoder.fit_transform(CN['Destination']) \n",
    "CN.head()"
   ]
  },
  {
   "cell_type": "markdown",
   "id": "4627044c",
   "metadata": {},
   "source": [
    "#VARIABLE ASSIGNMENT \n",
    "#INDEPENDENT VARIABLES"
   ]
  },
  {
   "cell_type": "code",
   "execution_count": 17,
   "id": "5374ef0e",
   "metadata": {},
   "outputs": [],
   "source": [
    "cols=['Time','Source','Destination','Length'] \n",
    "X=CN[cols]"
   ]
  },
  {
   "cell_type": "markdown",
   "id": "121a3dcd",
   "metadata": {},
   "source": [
    "#DEPENDENT VARIABLE"
   ]
  },
  {
   "cell_type": "code",
   "execution_count": 19,
   "id": "af25b99f",
   "metadata": {},
   "outputs": [],
   "source": [
    "y=CN.Protocol"
   ]
  },
  {
   "cell_type": "markdown",
   "id": "33772e38",
   "metadata": {},
   "source": [
    "#SPLITTING THE DATASET INTO TRAINING AND TEST SET."
   ]
  },
  {
   "cell_type": "code",
   "execution_count": 21,
   "id": "0c0cedfe",
   "metadata": {},
   "outputs": [],
   "source": [
    "from sklearn.model_selection import train_test_split \n",
    "X_train, X_test, y_train, y_test = train_test_split(X, y, test_size=0.3, random_state=1)"
   ]
  },
  {
   "cell_type": "markdown",
   "id": "ecd8496d",
   "metadata": {},
   "source": [
    "#FEATURE SCALING"
   ]
  },
  {
   "cell_type": "code",
   "execution_count": 23,
   "id": "0152bc0f",
   "metadata": {},
   "outputs": [],
   "source": [
    "from sklearn.preprocessing import StandardScaler \n",
    "st_x= StandardScaler() \n",
    "X_train= st_x.fit_transform(X_train) \n",
    "X_test= st_x.transform(X_test)"
   ]
  },
  {
   "cell_type": "markdown",
   "id": "77f47237",
   "metadata": {},
   "source": [
    "#IMPLEMENTING ML ALGORITHMS\n",
    "#DecisionTree Classifier"
   ]
  },
  {
   "cell_type": "code",
   "execution_count": 24,
   "id": "615018a1",
   "metadata": {},
   "outputs": [
    {
     "name": "stdout",
     "output_type": "stream",
     "text": [
      "Accuracy of Cart DecisionTree: 0.8733962720890825\n",
      "Precision of Cart DecisionTree: 0.8623086773741939\n",
      "Recall of Cart DecisionTree: 0.8733962720890825\n"
     ]
    }
   ],
   "source": [
    "from sklearn.tree import DecisionTreeClassifier \n",
    "from sklearn import metrics\n",
    "clf = DecisionTreeClassifier(criterion='gini') \n",
    "clf = clf.fit(X_train,y_train)\n",
    "y_pred = clf.predict(X_test)\n",
    "print(\"Accuracy of Cart DecisionTree:\",metrics.accuracy_score(y_test, y_pred))\n",
    "print(\"Precision of Cart DecisionTree:\",metrics.precision_score(y_test, y_pred,average='weighted'))\n",
    "print(\"Recall of Cart DecisionTree:\",metrics.recall_score(y_test, y_pred,average='weighted'))"
   ]
  },
  {
   "cell_type": "code",
   "execution_count": 25,
   "id": "ee9ca97a",
   "metadata": {},
   "outputs": [
    {
     "name": "stdout",
     "output_type": "stream",
     "text": [
      "Accuracy of SVM: 0.7367062051157912\n",
      "Precision of SVM: 0.6209952554115622\n",
      "Recall of SVM: 0.7367062051157912\n"
     ]
    }
   ],
   "source": [
    "from sklearn.svm import SVC #\"Support vector classifier\"  \n",
    "classifier = SVC(kernel='linear', random_state=0)  \n",
    "classifier.fit(X_train, y_train)\n",
    "y_pred= classifier.predict(X_test)\n",
    "print(\"Accuracy of SVM:\",metrics.accuracy_score(y_test, y_pred))\n",
    "print(\"Precision of SVM:\",metrics.precision_score(y_test, y_pred,average='weighted'))\n",
    "print(\"Recall of SVM:\",metrics.recall_score(y_test, y_pred,average='weighted'))"
   ]
  },
  {
   "cell_type": "code",
   "execution_count": 26,
   "id": "ed3377d0",
   "metadata": {},
   "outputs": [
    {
     "name": "stdout",
     "output_type": "stream",
     "text": [
      "Accuracy of Naive Bayes: 0.5833131606552086\n",
      "Precision of Naive Bayes: 0.7034865873888703\n",
      "Recall of Naive Bayes: 0.5833131606552086\n"
     ]
    }
   ],
   "source": [
    "from sklearn.naive_bayes import GaussianNB \n",
    "model=GaussianNB(priors=None, var_smoothing=1e-09) \n",
    "model.fit(X_train,y_train)\n",
    "y_pred = model.predict(X_test)\n",
    "print(\"Accuracy of Naive Bayes:\",metrics.accuracy_score(y_test, y_pred))\n",
    "print(\"Precision of Naive Bayes:\",metrics.precision_score(y_test, y_pred,average='weighted'))\n",
    "print(\"Recall of Naive Bayes:\",metrics.recall_score(y_test, y_pred,average='weighted'))"
   ]
  },
  {
   "cell_type": "code",
   "execution_count": 27,
   "id": "e241c35f",
   "metadata": {},
   "outputs": [
    {
     "data": {
      "text/plain": [
       "array(['TLSv1.2', 'TCP', 'TLSv1.3', 'ARP', 'ICMPv6', 'MDNS', 'SSDP',\n",
       "       'ICMP', 'DNS', 'NTP', 'UDP', 'XMPP/XML', 'HTTP', 'OCSP', 'IGMPv3',\n",
       "       'IPv4', 'TLSv1', 'QUIC', 'HTTP/JSON', 'LLMNR', 'DHCP', 'NAT-PMP',\n",
       "       'TFTP', 'SSLv2', 'NBNS'], dtype=object)"
      ]
     },
     "execution_count": 27,
     "metadata": {},
     "output_type": "execute_result"
    }
   ],
   "source": [
    "CN['Protocol'].unique()"
   ]
  },
  {
   "cell_type": "code",
   "execution_count": null,
   "id": "ee31a42f",
   "metadata": {},
   "outputs": [],
   "source": []
  }
 ],
 "metadata": {
  "kernelspec": {
   "display_name": "Python 3 (ipykernel)",
   "language": "python",
   "name": "python3"
  },
  "language_info": {
   "codemirror_mode": {
    "name": "ipython",
    "version": 3
   },
   "file_extension": ".py",
   "mimetype": "text/x-python",
   "name": "python",
   "nbconvert_exporter": "python",
   "pygments_lexer": "ipython3",
   "version": "3.9.13"
  }
 },
 "nbformat": 4,
 "nbformat_minor": 5
}
