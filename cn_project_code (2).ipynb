{
 "cells": [
  {
   "cell_type": "raw",
   "id": "9fb4cbf8",
   "metadata": {},
   "source": [
    "# Importing Libraries"
   ]
  },
  {
   "cell_type": "code",
   "execution_count": 1,
   "id": "c248fd14",
   "metadata": {},
   "outputs": [],
   "source": [
    "import numpy as np\n",
    "import pandas as pd \n",
    "import matplotlib.pyplot as plt \n",
    "%matplotlib inline \n",
    "import seaborn as sns\n",
    "import warnings\n",
    "warnings.filterwarnings(\"ignore\")"
   ]
  },
  {
   "cell_type": "raw",
   "id": "ef6d7273",
   "metadata": {},
   "source": [
    "# Reading CSV file for input"
   ]
  },
  {
   "cell_type": "code",
   "execution_count": 2,
   "id": "226a1909",
   "metadata": {},
   "outputs": [
    {
     "data": {
      "text/html": [
       "<div>\n",
       "<style scoped>\n",
       "    .dataframe tbody tr th:only-of-type {\n",
       "        vertical-align: middle;\n",
       "    }\n",
       "\n",
       "    .dataframe tbody tr th {\n",
       "        vertical-align: top;\n",
       "    }\n",
       "\n",
       "    .dataframe thead th {\n",
       "        text-align: right;\n",
       "    }\n",
       "</style>\n",
       "<table border=\"1\" class=\"dataframe\">\n",
       "  <thead>\n",
       "    <tr style=\"text-align: right;\">\n",
       "      <th></th>\n",
       "      <th>No.</th>\n",
       "      <th>Time</th>\n",
       "      <th>Source</th>\n",
       "      <th>Destination</th>\n",
       "      <th>Protocol</th>\n",
       "      <th>Length</th>\n",
       "      <th>Info</th>\n",
       "    </tr>\n",
       "  </thead>\n",
       "  <tbody>\n",
       "    <tr>\n",
       "      <th>0</th>\n",
       "      <td>1</td>\n",
       "      <td>0.000000</td>\n",
       "      <td>192.168.230.22</td>\n",
       "      <td>192.168.230.66</td>\n",
       "      <td>TCP</td>\n",
       "      <td>66</td>\n",
       "      <td>51059  &gt;  80 [SYN] Seq=0 Win=64240 Len=0 MSS=1...</td>\n",
       "    </tr>\n",
       "    <tr>\n",
       "      <th>1</th>\n",
       "      <td>2</td>\n",
       "      <td>0.002615</td>\n",
       "      <td>192.168.230.66</td>\n",
       "      <td>192.168.230.22</td>\n",
       "      <td>TCP</td>\n",
       "      <td>54</td>\n",
       "      <td>80  &gt;  51059 [RST, ACK] Seq=1 Ack=1 Win=0 Len=0</td>\n",
       "    </tr>\n",
       "    <tr>\n",
       "      <th>2</th>\n",
       "      <td>3</td>\n",
       "      <td>0.003220</td>\n",
       "      <td>192.168.230.22</td>\n",
       "      <td>192.168.230.66</td>\n",
       "      <td>NBNS</td>\n",
       "      <td>92</td>\n",
       "      <td>Name query NBSTAT *&lt;00&gt;&lt;00&gt;&lt;00&gt;&lt;00&gt;&lt;00&gt;&lt;00&gt;&lt;00...</td>\n",
       "    </tr>\n",
       "    <tr>\n",
       "      <th>3</th>\n",
       "      <td>4</td>\n",
       "      <td>0.006271</td>\n",
       "      <td>192.168.230.66</td>\n",
       "      <td>192.168.230.22</td>\n",
       "      <td>ICMP</td>\n",
       "      <td>120</td>\n",
       "      <td>Destination unreachable (Port unreachable)</td>\n",
       "    </tr>\n",
       "    <tr>\n",
       "      <th>4</th>\n",
       "      <td>5</td>\n",
       "      <td>2.077054</td>\n",
       "      <td>IntelCor_f9:40:9d</td>\n",
       "      <td>Broadcast</td>\n",
       "      <td>ARP</td>\n",
       "      <td>42</td>\n",
       "      <td>Who has 192.168.230.66? Tell 192.168.230.22</td>\n",
       "    </tr>\n",
       "  </tbody>\n",
       "</table>\n",
       "</div>"
      ],
      "text/plain": [
       "   No.      Time             Source     Destination Protocol  Length  \\\n",
       "0    1  0.000000     192.168.230.22  192.168.230.66      TCP      66   \n",
       "1    2  0.002615     192.168.230.66  192.168.230.22      TCP      54   \n",
       "2    3  0.003220     192.168.230.22  192.168.230.66     NBNS      92   \n",
       "3    4  0.006271     192.168.230.66  192.168.230.22     ICMP     120   \n",
       "4    5  2.077054  IntelCor_f9:40:9d       Broadcast      ARP      42   \n",
       "\n",
       "                                                Info  \n",
       "0  51059  >  80 [SYN] Seq=0 Win=64240 Len=0 MSS=1...  \n",
       "1    80  >  51059 [RST, ACK] Seq=1 Ack=1 Win=0 Len=0  \n",
       "2  Name query NBSTAT *<00><00><00><00><00><00><00...  \n",
       "3         Destination unreachable (Port unreachable)  \n",
       "4        Who has 192.168.230.66? Tell 192.168.230.22  "
      ]
     },
     "execution_count": 2,
     "metadata": {},
     "output_type": "execute_result"
    }
   ],
   "source": [
    "cn=pd.read_csv('cn_android.csv',on_bad_lines='skip') \n",
    "cn.head()"
   ]
  },
  {
   "cell_type": "code",
   "execution_count": 3,
   "id": "c8031bde",
   "metadata": {},
   "outputs": [
    {
     "data": {
      "text/plain": [
       "No.            0\n",
       "Time           0\n",
       "Source         0\n",
       "Destination    0\n",
       "Protocol       0\n",
       "Length         0\n",
       "Info           0\n",
       "dtype: int64"
      ]
     },
     "execution_count": 3,
     "metadata": {},
     "output_type": "execute_result"
    }
   ],
   "source": [
    "cn.isnull().sum()"
   ]
  },
  {
   "cell_type": "raw",
   "id": "534a6404",
   "metadata": {},
   "source": [
    "# DROPPING THE INFO COLUMN"
   ]
  },
  {
   "cell_type": "code",
   "execution_count": 4,
   "id": "5addfc9d",
   "metadata": {},
   "outputs": [],
   "source": [
    "cn.drop('Info',axis=1,inplace=True)"
   ]
  },
  {
   "cell_type": "raw",
   "id": "1c7e9f61",
   "metadata": {},
   "source": [
    "# CALCULATING TIME DIFFERENCE"
   ]
  },
  {
   "cell_type": "code",
   "execution_count": 5,
   "id": "a395af30",
   "metadata": {},
   "outputs": [
    {
     "data": {
      "text/html": [
       "<div>\n",
       "<style scoped>\n",
       "    .dataframe tbody tr th:only-of-type {\n",
       "        vertical-align: middle;\n",
       "    }\n",
       "\n",
       "    .dataframe tbody tr th {\n",
       "        vertical-align: top;\n",
       "    }\n",
       "\n",
       "    .dataframe thead th {\n",
       "        text-align: right;\n",
       "    }\n",
       "</style>\n",
       "<table border=\"1\" class=\"dataframe\">\n",
       "  <thead>\n",
       "    <tr style=\"text-align: right;\">\n",
       "      <th></th>\n",
       "      <th>No.</th>\n",
       "      <th>Time</th>\n",
       "      <th>Source</th>\n",
       "      <th>Destination</th>\n",
       "      <th>Protocol</th>\n",
       "      <th>Length</th>\n",
       "    </tr>\n",
       "  </thead>\n",
       "  <tbody>\n",
       "    <tr>\n",
       "      <th>0</th>\n",
       "      <td>1</td>\n",
       "      <td>NaN</td>\n",
       "      <td>192.168.230.22</td>\n",
       "      <td>192.168.230.66</td>\n",
       "      <td>TCP</td>\n",
       "      <td>66</td>\n",
       "    </tr>\n",
       "    <tr>\n",
       "      <th>1</th>\n",
       "      <td>2</td>\n",
       "      <td>0.002615</td>\n",
       "      <td>192.168.230.66</td>\n",
       "      <td>192.168.230.22</td>\n",
       "      <td>TCP</td>\n",
       "      <td>54</td>\n",
       "    </tr>\n",
       "    <tr>\n",
       "      <th>2</th>\n",
       "      <td>3</td>\n",
       "      <td>0.000605</td>\n",
       "      <td>192.168.230.22</td>\n",
       "      <td>192.168.230.66</td>\n",
       "      <td>NBNS</td>\n",
       "      <td>92</td>\n",
       "    </tr>\n",
       "    <tr>\n",
       "      <th>3</th>\n",
       "      <td>4</td>\n",
       "      <td>0.003051</td>\n",
       "      <td>192.168.230.66</td>\n",
       "      <td>192.168.230.22</td>\n",
       "      <td>ICMP</td>\n",
       "      <td>120</td>\n",
       "    </tr>\n",
       "    <tr>\n",
       "      <th>4</th>\n",
       "      <td>5</td>\n",
       "      <td>2.070783</td>\n",
       "      <td>IntelCor_f9:40:9d</td>\n",
       "      <td>Broadcast</td>\n",
       "      <td>ARP</td>\n",
       "      <td>42</td>\n",
       "    </tr>\n",
       "  </tbody>\n",
       "</table>\n",
       "</div>"
      ],
      "text/plain": [
       "   No.      Time             Source     Destination Protocol  Length\n",
       "0    1       NaN     192.168.230.22  192.168.230.66      TCP      66\n",
       "1    2  0.002615     192.168.230.66  192.168.230.22      TCP      54\n",
       "2    3  0.000605     192.168.230.22  192.168.230.66     NBNS      92\n",
       "3    4  0.003051     192.168.230.66  192.168.230.22     ICMP     120\n",
       "4    5  2.070783  IntelCor_f9:40:9d       Broadcast      ARP      42"
      ]
     },
     "execution_count": 5,
     "metadata": {},
     "output_type": "execute_result"
    }
   ],
   "source": [
    "cn[\"Time\"] = cn[\"Time\"].diff(1) \n",
    "cn.head()"
   ]
  },
  {
   "cell_type": "raw",
   "id": "895864e7",
   "metadata": {},
   "source": [
    "#REMOVING OUTLIERS\n",
    "#TIME"
   ]
  },
  {
   "cell_type": "code",
   "execution_count": 6,
   "id": "fa9212da",
   "metadata": {},
   "outputs": [
    {
     "data": {
      "text/plain": [
       "No.            7881\n",
       "Time           7881\n",
       "Source         7881\n",
       "Destination    7881\n",
       "Protocol       7881\n",
       "Length         7881\n",
       "dtype: int64"
      ]
     },
     "execution_count": 6,
     "metadata": {},
     "output_type": "execute_result"
    }
   ],
   "source": [
    "Q3_Time=cn['Time'].quantile(0.75) \n",
    "Q1_Time=cn['Time'].quantile(0.25) \n",
    "IQR_Time=Q3_Time-Q1_Time \n",
    "UL=Q3_Time+1.5*IQR_Time \n",
    "LL=Q1_Time-1.5*IQR_Time \n",
    "Outlier_Values=cn[(cn['Time']>=UL)|(cn['Time']<=LL)] \n",
    "Outlier_Values.count()"
   ]
  },
  {
   "cell_type": "code",
   "execution_count": 7,
   "id": "2b54ff95",
   "metadata": {},
   "outputs": [
    {
     "data": {
      "text/html": [
       "<div>\n",
       "<style scoped>\n",
       "    .dataframe tbody tr th:only-of-type {\n",
       "        vertical-align: middle;\n",
       "    }\n",
       "\n",
       "    .dataframe tbody tr th {\n",
       "        vertical-align: top;\n",
       "    }\n",
       "\n",
       "    .dataframe thead th {\n",
       "        text-align: right;\n",
       "    }\n",
       "</style>\n",
       "<table border=\"1\" class=\"dataframe\">\n",
       "  <thead>\n",
       "    <tr style=\"text-align: right;\">\n",
       "      <th></th>\n",
       "      <th>No.</th>\n",
       "      <th>Time</th>\n",
       "      <th>Source</th>\n",
       "      <th>Destination</th>\n",
       "      <th>Protocol</th>\n",
       "      <th>Length</th>\n",
       "    </tr>\n",
       "  </thead>\n",
       "  <tbody>\n",
       "    <tr>\n",
       "      <th>1</th>\n",
       "      <td>2</td>\n",
       "      <td>0.002615</td>\n",
       "      <td>192.168.230.66</td>\n",
       "      <td>192.168.230.22</td>\n",
       "      <td>TCP</td>\n",
       "      <td>54</td>\n",
       "    </tr>\n",
       "    <tr>\n",
       "      <th>2</th>\n",
       "      <td>3</td>\n",
       "      <td>0.000605</td>\n",
       "      <td>192.168.230.22</td>\n",
       "      <td>192.168.230.66</td>\n",
       "      <td>NBNS</td>\n",
       "      <td>92</td>\n",
       "    </tr>\n",
       "    <tr>\n",
       "      <th>3</th>\n",
       "      <td>4</td>\n",
       "      <td>0.003051</td>\n",
       "      <td>192.168.230.66</td>\n",
       "      <td>192.168.230.22</td>\n",
       "      <td>ICMP</td>\n",
       "      <td>120</td>\n",
       "    </tr>\n",
       "    <tr>\n",
       "      <th>8</th>\n",
       "      <td>9</td>\n",
       "      <td>0.000069</td>\n",
       "      <td>192.168.230.22</td>\n",
       "      <td>5.9.71.92</td>\n",
       "      <td>TCP</td>\n",
       "      <td>54</td>\n",
       "    </tr>\n",
       "    <tr>\n",
       "      <th>15</th>\n",
       "      <td>16</td>\n",
       "      <td>0.003041</td>\n",
       "      <td>192.168.230.66</td>\n",
       "      <td>192.168.230.22</td>\n",
       "      <td>TCP</td>\n",
       "      <td>54</td>\n",
       "    </tr>\n",
       "  </tbody>\n",
       "</table>\n",
       "</div>"
      ],
      "text/plain": [
       "    No.      Time          Source     Destination Protocol  Length\n",
       "1     2  0.002615  192.168.230.66  192.168.230.22      TCP      54\n",
       "2     3  0.000605  192.168.230.22  192.168.230.66     NBNS      92\n",
       "3     4  0.003051  192.168.230.66  192.168.230.22     ICMP     120\n",
       "8     9  0.000069  192.168.230.22       5.9.71.92      TCP      54\n",
       "15   16  0.003041  192.168.230.66  192.168.230.22      TCP      54"
      ]
     },
     "execution_count": 7,
     "metadata": {},
     "output_type": "execute_result"
    }
   ],
   "source": [
    "CN=cn[(cn['Time']>LL)&(cn['Time']<UL)]\n",
    "CN.head()"
   ]
  },
  {
   "cell_type": "raw",
   "id": "574bf72e",
   "metadata": {},
   "source": [
    "#LENGTH"
   ]
  },
  {
   "cell_type": "code",
   "execution_count": 8,
   "id": "378b17ec",
   "metadata": {},
   "outputs": [
    {
     "data": {
      "text/plain": [
       "<AxesSubplot:ylabel='Length'>"
      ]
     },
     "execution_count": 8,
     "metadata": {},
     "output_type": "execute_result"
    },
    {
     "data": {
      "image/png": "[encoded data removed]",
      "text/plain": [
       "<Figure size 432x288 with 1 Axes>"
      ]
     },
     "metadata": {
      "needs_background": "light"
     },
     "output_type": "display_data"
    }
   ],
   "source": [
    "CN.reset_index() \n",
    "sns.boxplot(y='Length',data=CN)"
   ]
  },
  {
   "cell_type": "raw",
   "id": "6dc8aed5",
   "metadata": {},
   "source": [
    "#ENCODING SOURCE IP ADDRESS"
   ]
  },
  {
   "cell_type": "code",
   "execution_count": 9,
   "id": "60bd40c5",
   "metadata": {},
   "outputs": [],
   "source": [
    "from sklearn.preprocessing import LabelEncoder \n",
    "labelencoder = LabelEncoder() \n",
    "CN['Source']= labelencoder.fit_transform(CN['Source'])"
   ]
  },
  {
   "cell_type": "raw",
   "id": "9febd39f",
   "metadata": {},
   "source": [
    "#ENCODING DESTINATION IP ADDRESS"
   ]
  },
  {
   "cell_type": "code",
   "execution_count": 10,
   "id": "b3404b0f",
   "metadata": {},
   "outputs": [
    {
     "data": {
      "text/html": [
       "<div>\n",
       "<style scoped>\n",
       "    .dataframe tbody tr th:only-of-type {\n",
       "        vertical-align: middle;\n",
       "    }\n",
       "\n",
       "    .dataframe tbody tr th {\n",
       "        vertical-align: top;\n",
       "    }\n",
       "\n",
       "    .dataframe thead th {\n",
       "        text-align: right;\n",
       "    }\n",
       "</style>\n",
       "<table border=\"1\" class=\"dataframe\">\n",
       "  <thead>\n",
       "    <tr style=\"text-align: right;\">\n",
       "      <th></th>\n",
       "      <th>No.</th>\n",
       "      <th>Time</th>\n",
       "      <th>Source</th>\n",
       "      <th>Destination</th>\n",
       "      <th>Protocol</th>\n",
       "      <th>Length</th>\n",
       "    </tr>\n",
       "  </thead>\n",
       "  <tbody>\n",
       "    <tr>\n",
       "      <th>1</th>\n",
       "      <td>2</td>\n",
       "      <td>0.002615</td>\n",
       "      <td>21</td>\n",
       "      <td>18</td>\n",
       "      <td>TCP</td>\n",
       "      <td>54</td>\n",
       "    </tr>\n",
       "    <tr>\n",
       "      <th>2</th>\n",
       "      <td>3</td>\n",
       "      <td>0.000605</td>\n",
       "      <td>20</td>\n",
       "      <td>19</td>\n",
       "      <td>NBNS</td>\n",
       "      <td>92</td>\n",
       "    </tr>\n",
       "    <tr>\n",
       "      <th>3</th>\n",
       "      <td>4</td>\n",
       "      <td>0.003051</td>\n",
       "      <td>21</td>\n",
       "      <td>18</td>\n",
       "      <td>ICMP</td>\n",
       "      <td>120</td>\n",
       "    </tr>\n",
       "    <tr>\n",
       "      <th>8</th>\n",
       "      <td>9</td>\n",
       "      <td>0.000069</td>\n",
       "      <td>20</td>\n",
       "      <td>116</td>\n",
       "      <td>TCP</td>\n",
       "      <td>54</td>\n",
       "    </tr>\n",
       "    <tr>\n",
       "      <th>15</th>\n",
       "      <td>16</td>\n",
       "      <td>0.003041</td>\n",
       "      <td>21</td>\n",
       "      <td>18</td>\n",
       "      <td>TCP</td>\n",
       "      <td>54</td>\n",
       "    </tr>\n",
       "  </tbody>\n",
       "</table>\n",
       "</div>"
      ],
      "text/plain": [
       "    No.      Time  Source  Destination Protocol  Length\n",
       "1     2  0.002615      21           18      TCP      54\n",
       "2     3  0.000605      20           19     NBNS      92\n",
       "3     4  0.003051      21           18     ICMP     120\n",
       "8     9  0.000069      20          116      TCP      54\n",
       "15   16  0.003041      21           18      TCP      54"
      ]
     },
     "execution_count": 10,
     "metadata": {},
     "output_type": "execute_result"
    }
   ],
   "source": [
    "from sklearn.preprocessing import LabelEncoder \n",
    "labelencoder = LabelEncoder() \n",
    "CN['Destination']= labelencoder.fit_transform(CN['Destination']) \n",
    "CN.head()"
   ]
  },
  {
   "cell_type": "raw",
   "id": "b3d269d2",
   "metadata": {},
   "source": [
    "#VARIABLE ASSIGNMENT \n",
    "#INDEPENDENT VARIABLES"
   ]
  },
  {
   "cell_type": "code",
   "execution_count": 11,
   "id": "d92137ec",
   "metadata": {},
   "outputs": [],
   "source": [
    "cols=['Time','Source','Destination','Length'] \n",
    "X=CN[cols]"
   ]
  },
  {
   "cell_type": "raw",
   "id": "2f47cce9",
   "metadata": {},
   "source": [
    "#DEPENDENT VARIABLE"
   ]
  },
  {
   "cell_type": "code",
   "execution_count": 12,
   "id": "16e24ed8",
   "metadata": {},
   "outputs": [],
   "source": [
    "y=CN.Protocol"
   ]
  },
  {
   "cell_type": "raw",
   "id": "6f37246d",
   "metadata": {},
   "source": [
    "# SPLITTING THE DATASET INTO TRAINING AND TEST SET."
   ]
  },
  {
   "cell_type": "code",
   "execution_count": 13,
   "id": "5df70304",
   "metadata": {},
   "outputs": [],
   "source": [
    "from sklearn.model_selection import train_test_split \n",
    "X_train, X_test, y_train, y_test = train_test_split(X, y, test_size=0.3, random_state=1)"
   ]
  },
  {
   "cell_type": "raw",
   "id": "e93e9c92",
   "metadata": {},
   "source": [
    "#FEATURE SCALING"
   ]
  },
  {
   "cell_type": "code",
   "execution_count": 14,
   "id": "dfd9afd9",
   "metadata": {},
   "outputs": [],
   "source": [
    "from sklearn.preprocessing import StandardScaler \n",
    "st_x= StandardScaler() \n",
    "X_train= st_x.fit_transform(X_train) \n",
    "X_test= st_x.transform(X_test)"
   ]
  },
  {
   "cell_type": "raw",
   "id": "f4f4d32f",
   "metadata": {},
   "source": [
    "#IMPLEMENTING ML ALGORITHMS\n",
    "#DecisionTree Classifier"
   ]
  },
  {
   "cell_type": "code",
   "execution_count": 15,
   "id": "46cc4858",
   "metadata": {},
   "outputs": [
    {
     "name": "stdout",
     "output_type": "stream",
     "text": [
      "Accuracy of Cart DecisionTree: 0.8531733981172184\n",
      "Precision of Cart DecisionTree: 0.8534428350385985\n",
      "Recall of Cart DecisionTree: 0.8531733981172184\n"
     ]
    }
   ],
   "source": [
    "from sklearn.tree import DecisionTreeClassifier \n",
    "from sklearn import metrics\n",
    "clf = DecisionTreeClassifier(criterion='gini') \n",
    "clf = clf.fit(X_train,y_train)\n",
    "y_pred = clf.predict(X_test)\n",
    "print(\"Accuracy of Cart DecisionTree:\",metrics.accuracy_score(y_test, y_pred))\n",
    "print(\"Precision of Cart DecisionTree:\",metrics.precision_score(y_test, y_pred,average='weighted'))\n",
    "print(\"Recall of Cart DecisionTree:\",metrics.recall_score(y_test, y_pred,average='weighted'))"
   ]
  },
  {
   "cell_type": "raw",
   "id": "ac16f590",
   "metadata": {},
   "source": [
    "#Support Vector Machine"
   ]
  },
  {
   "cell_type": "code",
   "execution_count": 16,
   "id": "6f9a31df",
   "metadata": {},
   "outputs": [
    {
     "name": "stdout",
     "output_type": "stream",
     "text": [
      "Accuracy of SVM: 0.6332371697540237\n",
      "Precision of SVM: 0.564599377646923\n",
      "Recall of SVM: 0.6332371697540237\n"
     ]
    }
   ],
   "source": [
    "from sklearn.svm import SVC # \"Support vector classifier\"  \n",
    "classifier = SVC(kernel='linear', random_state=0)  \n",
    "classifier.fit(X_train, y_train)\n",
    "y_pred= classifier.predict(X_test)\n",
    "print(\"Accuracy of SVM:\",metrics.accuracy_score(y_test, y_pred))\n",
    "print(\"Precision of SVM:\",metrics.precision_score(y_test, y_pred,average='weighted'))\n",
    "print(\"Recall of SVM:\",metrics.recall_score(y_test, y_pred,average='weighted'))"
   ]
  },
  {
   "cell_type": "raw",
   "id": "55d3b7d5",
   "metadata": {},
   "source": [
    "#Navie Bayes"
   ]
  },
  {
   "cell_type": "code",
   "execution_count": 17,
   "id": "544864eb",
   "metadata": {},
   "outputs": [
    {
     "name": "stdout",
     "output_type": "stream",
     "text": [
      "Accuracy of Naive Bayes: 0.4291679319769207\n",
      "Precision of Naive Bayes: 0.49820553336916984\n",
      "Recall of Naive Bayes: 0.4291679319769207\n"
     ]
    }
   ],
   "source": [
    "from sklearn.naive_bayes import GaussianNB \n",
    "model=GaussianNB(priors=None, var_smoothing=1e-09) \n",
    "model.fit(X_train,y_train)\n",
    "y_pred = model.predict(X_test)\n",
    "print(\"Accuracy of Naive Bayes:\",metrics.accuracy_score(y_test, y_pred))\n",
    "print(\"Precision of Naive Bayes:\",metrics.precision_score(y_test, y_pred,average='weighted'))\n",
    "print(\"Recall of Naive Bayes:\",metrics.recall_score(y_test, y_pred,average='weighted'))"
   ]
  },
  {
   "cell_type": "raw",
   "id": "58388b28",
   "metadata": {},
   "source": [
    "#IDENTIFYING THE DIFFERENT PROTCOLS IN THE DATASET"
   ]
  },
  {
   "cell_type": "code",
   "execution_count": 18,
   "id": "addff0b7",
   "metadata": {},
   "outputs": [
    {
     "data": {
      "text/plain": [
       "array(['TCP', 'NBNS', 'ICMP', 'DNS', 'TLSv1.2', 'ARP', 'SSDP', 'HTTP',\n",
       "       'IGMPv3', 'TLSv1.3', 'QUIC', 'SSLv2', 'TLSv1', 'SSL', 'MDNS'],\n",
       "      dtype=object)"
      ]
     },
     "execution_count": 18,
     "metadata": {},
     "output_type": "execute_result"
    }
   ],
   "source": [
    "CN['Protocol'].unique()"
   ]
  },
  {
   "cell_type": "raw",
   "id": "127bfcb1",
   "metadata": {},
   "source": []
  },
  {
   "cell_type": "code",
   "execution_count": null,
   "id": "df134c55",
   "metadata": {},
   "outputs": [],
   "source": []
  }
 ],
 "metadata": {
  "kernelspec": {
   "display_name": "Python 3 (ipykernel)",
   "language": "python",
   "name": "python3"
  },
  "language_info": {
   "codemirror_mode": {
    "name": "ipython",
    "version": 3
   },
   "file_extension": ".py",
   "mimetype": "text/x-python",
   "name": "python",
   "nbconvert_exporter": "python",
   "pygments_lexer": "ipython3",
   "version": "3.9.13"
  }
 },
 "nbformat": 4,
 "nbformat_minor": 5
}
